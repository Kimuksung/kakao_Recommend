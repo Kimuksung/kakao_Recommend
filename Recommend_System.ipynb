{
  "nbformat": 4,
  "nbformat_minor": 0,
  "metadata": {
    "colab": {
      "name": "Recommend System.ipynb",
      "provenance": [],
      "collapsed_sections": [],
      "authorship_tag": "ABX9TyO+wXG7Q/7ZG+8Zx5Anv2H+",
      "include_colab_link": true
    },
    "kernelspec": {
      "name": "python3",
      "display_name": "Python 3"
    }
  },
  "cells": [
    {
      "cell_type": "markdown",
      "metadata": {
        "id": "view-in-github",
        "colab_type": "text"
      },
      "source": [
        "<a href=\"https://colab.research.google.com/github/Kimuksung/kakao_Recommend/blob/master/Recommend_System.ipynb\" target=\"_parent\"><img src=\"https://colab.research.google.com/assets/colab-badge.svg\" alt=\"Open In Colab\"/></a>"
      ]
    },
    {
      "cell_type": "markdown",
      "metadata": {
        "id": "5VT8Fd4TZqAQ",
        "colab_type": "text"
      },
      "source": [
        "# Recommend system\n",
        "\n",
        "> collaborate  filtering(협업 필터링) = CF\n",
        "\n",
        "1. memory based\n",
        "\n",
        "2. nearest neighbor collaborative filtering\n",
        "\n",
        "<img src = \"https://k.kakaocdn.net/dn/p45kL/btqARXfVVI5/6oHnJ5yksLHBhlt3KMqPek/img.jpg\"/>\n",
        "\n",
        "- 사용자의 행동 양식(평점, 구매 이력, 관심사)를 기반으로 추천\n",
        "\n",
        "- item , user가 많아진다면 data가 sparse matrix가 된다.\n",
        "\n",
        "- 사용자 기반 : 비슷한 고객들이 ~한 Item을 소비했다\n",
        "\n",
        "<img src=\"https://k.kakaocdn.net/dn/tSWlg/btqARjDOb6e/H3eUhClUaVvNrLjIlkrIBK/img.jpg\"/>\n",
        "\n",
        "- 아이템 기반 : ~한 Item을 소비한 고객들은 다음과 같은 상품도 구매했다\n",
        "\n",
        "<img src=\"https://miro.medium.com/max/1538/1*rkf1uTbr7CrasouZgKZufg.png\"/>\n",
        "<br/>\n",
        "\n",
        "- 일반적으로 사용자 기반 협업 필터링(user based collaborative filtering)보다 <font color=\"red\"> 아이템 기반 협업 필터링 </font>(item based collaborative filtering)이 좀 더 정확도가 높다\n",
        "\n",
        "3. latent factor collaborated\n",
        "-  숨어 있는 잠재 요인(hyper parameter로 설정 가능)을 추출하여 추천 예측을 할 수 있게 하는 기법\n",
        "\n",
        "-  행렬 분해(matrix factorization)을 기반하여 사용(모든 사용자가 모든 아이템에 대해 평점을 남겼으면 필요 X)\n",
        "\n",
        "<img src=\"https://greeksharifa.github.io/public/img/Machine_Learning/2019-12-17-Recommendation%20System/03.JPG\" >\n",
        "\n",
        "<img src=\"https://k.kakaocdn.net/dn/c7H4Z7/btqAQ2Jd9GV/TFW77E8nGJN7xPq1xtyCQK/img.jpg\"/>\n",
        "\n",
        "> contents based filtering\n",
        "\n",
        "- User가 특정 아이템을 선호하는 경우 비슷한 Contents의 다른 아이템 추천\n",
        "\n",
        "- 과거에 사용하던 방법\n",
        "\n",
        "- Ex) 액션 영화에 높은 평점 -> 다른 액션 영화 추천\n",
        "\n",
        "<br/>\n",
        "<img src = \"https://k.kakaocdn.net/dn/bv2zdZ/btqAQlChGVr/Obnr5AeadnE15JAlOj3yQ1/img.jpg\" />\n",
        "\n",
        "> hybrid approach\n",
        "\n",
        "> lstm + attention\n",
        "\n"
      ]
    },
    {
      "cell_type": "markdown",
      "metadata": {
        "id": "0RmcjSyaqPYy",
        "colab_type": "text"
      },
      "source": [
        "https://lsjsj92.tistory.com/565?category=853217\n",
        "\n",
        "- genres : 영화 장르\n",
        "- keywords : 영화의 키워드\n",
        "- original_language : 영화 언어\n",
        "- title : 제목\n",
        "- vote_average : 평점 평균\n",
        "- vote_count : 평점 카운트\n",
        "- popularity : 인기도\n",
        "- overview : 개요 설명\n",
        "\n",
        "문제점 : 평점을 바라볼 때\n",
        "https://www.quora.com/How-does-IMDbs-rating-system-work\n",
        "\n",
        "r : 개별 영화 평점\n",
        "\n",
        "v : 개별 영화에 평점을 투표한 횟수\n",
        "\n",
        "m : 250위 안에 들어야 하는 최소 투표 (정하기 나름인듯. 난 500이라고 하면 500으로 해도 되고.)\n",
        "\n",
        "c : 전체 영화에 대한 평균 평점\n",
        "<img src=\"https://i.ibb.co/QvhYxxw/image.png\" alt=\"image\" border=\"0\">\n",
        "\n",
        "이를 가지고 다른 영화 추천\n",
        "\n",
        "Kakao 브런치에 적용할 때\n",
        "- 작가\n",
        "- 제목\n",
        "- 부제목\n",
        "- tag\n",
        "- 장르\n",
        "- 접근 횟수\n",
        "- 구독 작가 리스트\n",
        "- 검색 키워드"
      ]
    },
    {
      "cell_type": "code",
      "metadata": {
        "id": "m6-KJxVgkUG7",
        "colab_type": "code",
        "colab": {}
      },
      "source": [
        ""
      ],
      "execution_count": null,
      "outputs": []
    }
  ]
}