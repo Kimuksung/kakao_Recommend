{
  "nbformat": 4,
  "nbformat_minor": 0,
  "metadata": {
    "colab": {
      "name": "Kakao 정리.ipynb",
      "provenance": [],
      "collapsed_sections": [],
      "authorship_tag": "ABX9TyOfvMC3v2uk3NAf7vFvLblg",
      "include_colab_link": true
    },
    "kernelspec": {
      "name": "python3",
      "display_name": "Python 3"
    }
  },
  "cells": [
    {
      "cell_type": "markdown",
      "metadata": {
        "id": "view-in-github",
        "colab_type": "text"
      },
      "source": [
        "<a href=\"https://colab.research.google.com/github/Kimuksung/kakao_Recommend/blob/master/Kakao_%EC%A0%95%EB%A6%AC.ipynb\" target=\"_parent\"><img src=\"https://colab.research.google.com/assets/colab-badge.svg\" alt=\"Open In Colab\"/></a>"
      ]
    },
    {
      "cell_type": "markdown",
      "metadata": {
        "id": "paPz6_8x59ab",
        "colab_type": "text"
      },
      "source": [
        "# \\<Kakao brunch recommend system>\n",
        "\n",
        "## \\<data>\n",
        "\n",
        "- read : user 본 글 정보( 2018.10 ~ 2019.03.01 )\n",
        "- metadata : 글의 metadata ( 2018.10 ~ 2019.03.14 )\n",
        "- contents : 글 본문 정보\n",
        "- user : 사용자 정보\n",
        "- magazine : 매거진 정보\n",
        "\n",
        "\n",
        "## \\<recommend system>\n",
        "\n",
        "- 2019.02.22 ~ 2019.03.14 기간 추천\n",
        "- users : 310,758\n",
        "- read : 643,104\n",
        "- read by users : 12,597,878 (중복 제외)\n",
        "- sparsity : 99.994%\n",
        "\n",
        "## \\<Idea> = 내가 유저라면 어떤 글을 볼까?\n",
        "1. 유명한 사람의 글을 많이 본다.\n",
        "2. 구독 중인 작가의 글을 많이 본다.\n",
        "3. 같은 magazine 내의 글을 본다(순차적으로 소개하는 글)\n",
        "4. CF 독자와 비슷한 소비 성향의 다른 독자 읽은 글 반영\n",
        "5. Content-based 독자가 읽은 과거 소비 성향 반영\n",
        "6. 최신 위주의 글을 본다.\n",
        "\n",
        "## \\<Algorithm>\n",
        "- User가 추천 기간(2019.02.22~ 2019.03.14)에 대해 읽은 글을 맞추기 위함이 목표이\n",
        "- 최근 Data(대부분의 data가 여기에 포함될 것) 맞추기 위해 2가지의 개념을 사용\n",
        "- 2019.02.22~2019.02.28 추천 system에 대해서는 인기도를 표현해줄 read라는 개념이 있기 때문에 이를 이용\n",
        "- 2019.03.01~2019.03.14 추천 system에 대해서는 read data가 없기 때문에 이를 대체할 다른 data가 필요하다. 이를 이용하기 위해 작가의 구독자 수 , user의 tag가 많은 순, 다수의 magazine tag에 대해서 인기도 순을 나열하여 보았다.\n",
        "\n",
        "<br/>\n",
        "<img src=\"https://i.ibb.co/xDyRHB8/kakao-recommend1.png\" alt=\"kakao-recommend1\" border=\"0\">\n",
        "<p/>\n",
        "<br/>\n",
        "<img src=\"https://i.ibb.co/KmNXJBz/kakao-recommend2.png\" alt=\"kakao-recommend2\" border=\"0\">\n",
        "\n",
        "참고 : https://brunch.co.kr/@kakao-it/332 / https://github.com/jihoo-kim/BrunchRec / https://medium.com/daangn/%EB%94%A5%EB%9F%AC%EB%8B%9D-%EA%B0%9C%EC%9D%B8%ED%99%94-%EC%B6%94%EC%B2%9C-1eda682c2e8c / https://storage.googleapis.com/pub-tools-public-publication-data/pdf/45530.pdf\n",
        "\n",
        "1. Popular based\n",
        "- 파레토 법칙 :  '전체 결과의 80%가 전체 원인의 20%에서 일어나는 현상'\n",
        "- 인기 많은(=조회수 높은) 상위 20%의 article들이 많이 소비되는 경향\n",
        "- 콜드 스타트 : 시스템이 아직 충분한 정보를 수집하지 않은 사용자 또는 항목에 대한 추론을 도출 할 수 없다는 문제\n",
        "<img src=\"https://k.kakaocdn.net/dn/TpJDZ/btqytU8u9aJ/O1QmhxYIi1o4Cn8BLzA9nk/img.png\"/>\n",
        "\n",
        "문제점\n",
        "- user마다 추천하는 결과물이 똑같다\n",
        "  - Entropy 측면에서 나쁘다.\n",
        "  - 전체의 선호가 반영되지 개인의 선호는 반영되지 않는다.\n",
        "\n",
        "2. Following based\n",
        "- User의 98%는 작가를 구독\n",
        "- 평균 9명의 작가를 구독\n",
        "- 구독자가 있는 User가 소비한 데이터는 93% , 그 중 구독 중인 작가의 글 소비 데이터는 35%\n",
        "\n",
        "3. Magazine based\n",
        "\n",
        "4. CF\n",
        "- CBF(contents based filtering) 모델과 CF(collaboration filtering)\n",
        "<img src=\"https://k.kakaocdn.net/dn/vVeKq/btqywwL8LHi/6ucUohVfRzuVJHTAGmkCG1/img.png\"/>\n",
        "<img src=\"https://k.kakaocdn.net/dn/Ipwao/btqyu9jABTe/1UTqomYysysvwnyo4RKrU1/img.png\"/>\n",
        "\n",
        "https://colab.research.google.com/drive/1JLNuG5lgdGsEtHoc4fuDN8tTaDiKgbpn?usp=sharing\n",
        "\n",
        "6. recently based\n",
        "- 브런치팀에서 작성한 글을 모두 제외하고, 등록된 경과일에 따른 평균 소비수를 보면, 일주일 이내의 대부분의 소비가 발생 (58%)\n",
        "\n",
        "<img src=\"https://k.kakaocdn.net/dn/oDm6B/btqyt5hEiaN/OkI6o3QX9kmda8Rce7VgI0/img.png\"/>"
      ]
    }
  ]
}