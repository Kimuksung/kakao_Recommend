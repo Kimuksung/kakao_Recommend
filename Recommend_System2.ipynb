{
  "nbformat": 4,
  "nbformat_minor": 0,
  "metadata": {
    "colab": {
      "name": "Recommend System2.ipynb",
      "provenance": [],
      "collapsed_sections": [],
      "authorship_tag": "ABX9TyOyv59Oh8Hpg/+At5AcxjES",
      "include_colab_link": true
    },
    "kernelspec": {
      "name": "python3",
      "display_name": "Python 3"
    }
  },
  "cells": [
    {
      "cell_type": "markdown",
      "metadata": {
        "id": "view-in-github",
        "colab_type": "text"
      },
      "source": [
        "<a href=\"https://colab.research.google.com/github/Kimuksung/kakao_Recommend/blob/master/Recommend_System2.ipynb\" target=\"_parent\"><img src=\"https://colab.research.google.com/assets/colab-badge.svg\" alt=\"Open In Colab\"/></a>"
      ]
    },
    {
      "cell_type": "markdown",
      "metadata": {
        "id": "OUhmwjw2mfjW",
        "colab_type": "text"
      },
      "source": [
        "# - 뉴스 데이터를 가지고 User의 취향에 맞게 추천(간략하게 해본 것)\n",
        "\n",
        "# 네이버 뉴스란에서 경제 / 사회 / IT에서 당일 날의 데이터만 뽑아옴(몇개 되지 않음)\n",
        "\n",
        "- 네이버 뉴스는 크롤링 하기 불편하게 class의 이름이 사이트 별로 다 다르게 되어 있다.\n",
        "\n",
        "- 다음 뉴스는 크롤링하기는 편하지만 쓸모 없는 데이터도 같이 수집되어 고민하다가 정확도를 위하여 네이버 뉴스를 택함\n",
        "\n",
        "# Word2Vec\n",
        "- softmax regression\n",
        "- 고차원 공간에 임의대로 단어의 좌표값을 부여 후 조절하는 것이다.\n",
        "- 좌표 값의 숫자는 의미 X\n",
        "- 비슷한 vector는 비슷한 느낌의 단어\n",
        "<img src=\"https://lovit.github.io/assets/figures/word2vec_semantic_space.png\" />\n",
        "- a little cat sit on the table에서 cat을 뺴고 cat을 예측한다고 해보자.\n",
        "- X =  a / little / sit / on ..\n",
        "- Y = cat\n",
        "\n",
        "- 학습 하면 할 수록 각 단어의 위치 좌표는 수정된다.\n",
        "<img src=\"https://lovit.github.io/assets/figures/word2vec_logistic_structure.png\" />\n",
        "\n",
        "- a little sit on = v1이다.\n",
        "- 유사한 단어끼리 서로 당기고 반대가 되는 단어는 밀어낸다.\n",
        "- 하지만 단어 사전에 최소 만개 이상이 들어가는데 모든 단어에 대해서 위와 같은 알고리즘이 구현된다면 속도가 매우 느리기 때문에 몇개의 단어만 움직인다.\n",
        "<img src=\"https://lovit.github.io/assets/figures/word2vec_softmax.png\"/>\n",
        "\n",
        "# Doc2Vec\n",
        "- size 는 임베딩 벡터의 크기\n",
        "- 작은 수준만 아니라면 벡터의 차원이 커진다고 학습의 경향이 달라지진 않습니다.\n",
        "- window 는 스냅샷의 크기(앞 뒤로 고려하는 단어의 개수)\n",
        "- min count 는 데이터에서 등장하는 단어의 최소빈도수\n",
        "\n",
        "-위의 a little sit on을 하나의 vector v1이라 한다.\n",
        "<img src=\"https://lovit.github.io/assets/figures/doc2vec_concept.png\"/>\n",
        "- word2vec와 같이 네 단어의 가운데 방향으로 Y인 cat을 이동시킨다.\n",
        "<img src=\"https://lovit.github.io/assets/figures/doc2vec_concept.png\"/>\n",
        "\n",
        "\n",
        "\n",
        "아래 예제는 user가 어떤 분야의 뉴스만 봣다고 가정\n",
        "\n",
        "참고 : https://lovit.github.io/nlp/representation/2018/03/26/word_doc_embedding/\n",
        "\n"
      ]
    },
    {
      "cell_type": "markdown",
      "metadata": {
        "id": "BKsOzCT40M8S",
        "colab_type": "text"
      },
      "source": [
        "코드에 대한 설명 요약\n",
        "\n",
        "1. news data(60개) + user data(3명)\n",
        "2. news data를 128개의 vector로 embedding\n",
        "3. 각각의 user가 본 뉴스에 대하여 이에 대한 embedding값의 평균을 구함\n",
        "4. cos 유사도를 이용하여 유사한 news 추천"
      ]
    },
    {
      "cell_type": "code",
      "metadata": {
        "id": "iME6Eh8om0_O",
        "colab_type": "code",
        "colab": {}
      },
      "source": [
        "import pandas as pd\n",
        "import numpy as np\n",
        "import matplotlib.pyplot as plt\n",
        "import random\n",
        "from sklearn.manifold import TSNE\n",
        "from gensim.test.utils import common_texts\n",
        "from gensim.models.doc2vec import Doc2Vec, TaggedDocument\n",
        "from sklearn.metrics.pairwise import cosine_similarity\n",
        "from urllib.request import urlopen\n",
        "from bs4 import BeautifulSoup\n",
        "import re\n"
      ],
      "execution_count": null,
      "outputs": []
    },
    {
      "cell_type": "code",
      "metadata": {
        "id": "3nCHOiJfm2cU",
        "colab_type": "code",
        "colab": {
          "base_uri": "https://localhost:8080/",
          "height": 994
        },
        "outputId": "379d49f0-0ab3-421d-8f0d-aec5c1afca08"
      },
      "source": [
        "# 크롤링 \n",
        "def cleanText(readData):\n",
        "    text = re.sub('[-=+,#/\\?:^$.@*\\\"※~&%ㆍ!』\\\\‘|\\(\\)\\[\\]\\<\\>`\\'…》]', '', readData) \n",
        "    return text\n",
        "\n",
        "def crawl(url , name):\n",
        "    html = urlopen(url)\n",
        "    source = html.read() # 바이트코드 type으로 소스를 읽는다.\n",
        "    html.close()\n",
        "    soup = BeautifulSoup(source, \"html5lib\")\n",
        "    \n",
        "    category=[] \n",
        "    for node in soup.findAll(class_=name):\n",
        "        data = cleanText(\"\".join(node.findAll(text=True)))\n",
        "        print(data)\n",
        "        category.append(data)\n",
        "    return category\n",
        "\n",
        "category1 = crawl(\"https://news.naver.com/main/main.nhn?mode=LSD&mid=shm&sid1=101\" , \"cluster_text_headline nclicks(cls_eco.clsart)\")\n",
        "category2 = crawl(\"https://news.naver.com/main/main.nhn?mode=LSD&mid=shm&sid1=102\" , \"cluster_text_headline nclicks(cls_nav.clsart)\")\n",
        "category3 = crawl(\"https://news.naver.com/main/main.nhn?mode=LSD&mid=shm&sid1=105\" , \"cluster_text_headline nclicks(cls_sci.clsart)\")\n",
        "\n",
        "len(category1) # 18\n",
        "len(category2) # 24\n",
        "len(category3) # 12"
      ],
      "execution_count": null,
      "outputs": [
        {
          "output_type": "stream",
          "text": [
            "10일부터 전세자금 대출 제한3억 원↑ 아파트 사면 대출 갚아야\n",
            "10일부터 3억 넘는 아파트 사면 전세대출 못 받는다\n",
            "10일부터 3억 넘는 아파트 전세 대출 끼고 못 산다\n",
            "6·17 대책에 꽉 막힌 대출전문가들 내 집 마련 최선책은 청약뿐\n",
            "카드업계 스스로 신사업 역량 증명해야 할 때\n",
            "카드사에 非우호적 현실업계 지속 혁신으로 역량 입증해야종합\n",
            "“카드사 플랫폼 비즈니스 원조지만 혁신은 뒤쳐져”\n",
            "네이버·카카오 맞선 카드사 사업범위 제한규제 풀어달라\n",
            "현정은 승강기도 모빌리티충주를 혁신기지로\n",
            "현대엘리베이터 충주를 승강기 4차혁명 전초기지로\n",
            "현대엘리베이터 충주 이전 첫 삽신공장 착공식\n",
            "현대엘리베이터 충주 신공장 착공2022년 준공 목표\n",
            "두산그룹 자구안 가속도연내 25조 마련 가능할듯\n",
            "자산매각 속도내는 두산솔루스 사모펀드에 판다\n",
            "올 분양시장 최대 둔촌주공 9일 총회 취소조합장도 사퇴의사\n",
            "속보 내홍 깊어진 둔촌주공 9일 예정된 총회 전격 취소\n",
            "예탁원NH證 옵티머스 사태 두고 공방전\n",
            "예탁원 옵티머스 펀드 종목명 변경해준 바 없어\n",
            "9일 오전 10시 윤석열 운명은추미애 공식일정도 취소했다\n",
            "추 최후통첩’도 깨지 못한 윤의 침묵’“장관 지휘 수용한 것” 분석도\n",
            "추미애 휴가 내고 최후통첩 “덫에 빠진다” 우려하는 검찰\n",
            "지휘권 갈등 추미애윤석열 9일 충돌 디데이 되나\n",
            "박정희 前대통령 숨겨진 장녀’ 박재옥씨 별세박근혜 조문 안 가\n",
            "박정희 전 대통령 큰딸 박재옥 씨 별세박근혜 전 대통령 이복언니\n",
            "“박근혜 귀휴 의사 안 밝혀 이복언니 조문 안갈 듯”\n",
            "이복언니 별세 접한 박근혜 조문 위한 형집행정지 신청안해\n",
            "스쿨존 무면허·과속 사고 낸 30대 구속민식이법 첫 구속 사례\n",
            "무면허에 과속김포 스쿨존 사고낸 운전자 민식이법’ 첫 구속\n",
            "무면허·과속 스쿨존서 7살 어린이 친 30대 운전자민식이법 첫 구속 사례\n",
            "스쿨존 횡단보도로 뛰어든 어린이 친 운전자 민식이법 첫 구속\n",
            "저축은행 돈으로 사채업 상상인 유준원 기소조국 뇌물 무관종합\n",
            "상상인그룹 유준원 대표 등 20명 기소자본시장 공정성 크게 훼손종합\n",
            "상상인 불법대출 유준원 구속기소조국에 특혜 바랐다는 의혹 사실무근\n",
            "속보검찰 유준원 상상인 대표 구속 기소 “저축은행이 불법 사채업”\n",
            "안희정 성폭행 폭로 김지은 누리꾼 40명 명예훼손 혐의 고소\n",
            "안희정 미투 폭로 김지은 악플단 네티즌 40명 고소\n",
            "안희정 성폭력 폭로 김지은 네티즌 40명 고소\n",
            "안희정 성폭행 폭로’ 김지은 누리꾼 40명 악성 댓글’로 고소\n",
            "김건모가 성폭행 주장한 여성 무고 아니다···경찰 불기소 송치\n",
            "퇴근길뉴스 경찰 “김건모가 무고라 주장한 증거 없어”\n",
            "손석희 공갈미수’ 김웅은 어떻게 압박했나“상왕 목 잘라 조선일보로 가져가겠다”\n",
            "루머의 루머의 루머 김웅 공갈미수’ 사건 판결요지 보니\n",
            "5G 공짜폰 뿌린 이통3사 512억 역대급 과징금 폭탄 맞았다\n",
            "방통위 5G 공짜폰 뿌린 이통사에 과징금 512억원역대 최대\n",
            "종합512억 과징금 이통3사 재발방지·상생에 7천억 푼다\n",
            "방통위 단통법 위반 이통3사에 512억 최대 과징금\n",
            "생활속 물아일체 휴대폰 전자파 우리 몸에 안전할까\n",
            "5G 전자파 측졍휴대폰·기지국 모두 안전\n",
            "“마구마구2020 야구 저변 확대 기여”원작 감성 재현모바일환경 최적화\n",
            "넷마블 마구마구2020’ 8일 모바일로 재탄생\n",
            "“당신의 음란 사이트 접속 사실을 알고 있다”··· 섹스토션 보안위협 주의\n",
            "차민석 안랩 수석연구원 늘어나는 보안 위협 기본에 충실해야\n",
            "이름만 들어도 설레는 임요환과 스타 대결 벌인 사연\n",
            "테란 황제 임요환 의원님들과 국회서 스타 한판 한 사연\n"
          ],
          "name": "stdout"
        },
        {
          "output_type": "execute_result",
          "data": {
            "text/plain": [
              "12"
            ]
          },
          "metadata": {
            "tags": []
          },
          "execution_count": 2
        }
      ]
    },
    {
      "cell_type": "code",
      "metadata": {
        "id": "VuoMrJQ7nHnk",
        "colab_type": "code",
        "colab": {}
      },
      "source": [
        "# data\n",
        "category = [1]*len(category1)\n",
        "df1 = pd.DataFrame({\"category\":category , \"content\":category1})\n",
        "category = [2]*len(category2)\n",
        "df2 = pd.DataFrame({\"category\":category , \"content\":category2})\n",
        "category = [3]*len(category3)\n",
        "df3 = pd.DataFrame({\"category\":category , \"content\":category3})\n",
        "\n",
        "df = pd.concat([df1 , df2 , df3] , ignore_index = True)"
      ],
      "execution_count": null,
      "outputs": []
    },
    {
      "cell_type": "code",
      "metadata": {
        "id": "46OaSb_FnMEk",
        "colab_type": "code",
        "colab": {}
      },
      "source": [
        "# doc2vec modeling\n",
        "# 128 개의 vector를 목표로 함\n",
        "# model에 대한 설명은 위에\n",
        "def make_doc2vec_models(tagged_data, name, vector_size=128, window = 3, epochs = 40, min_count = 0, workers = 4):\n",
        "    model = Doc2Vec(tagged_data, vector_size=vector_size, window=window, epochs=epochs, min_count=min_count, workers=workers)\n",
        "    model.save(f'./{name}_news_model.doc2vec')\n",
        "\n",
        "# 2가지의 데이터 유형\n",
        "# 1) tag word 합쳐져 있는 것\n",
        "# 2) 하나의 튜플 안에 (tag,word)\n",
        "def make_doc2vec_data(data, column, t_document=False):\n",
        "    data_doc = []\n",
        "    for tag, doc in zip(data.index, data[column]):\n",
        "        doc = doc.split(\" \")\n",
        "        data_doc.append(([tag], doc))\n",
        "    if t_document:\n",
        "        data = [TaggedDocument(words=text, tags=tag) for tag, text in data_doc]\n",
        "        return data\n",
        "    else:\n",
        "        return data_doc\n",
        "\n",
        "# model을 보고 embedding 작업\n",
        "# user가 본 data를 보고 vector 갯수를 맞추어 줌\n",
        "# 단 user가 하나도 본 내역이 없다면 불가\n",
        "def make_user_embedding(index_list, data_doc, model):\n",
        "    user = []\n",
        "    user_embedding = []\n",
        "    for i in index_list:\n",
        "        user.append(data_doc[i][0][0])\n",
        "    for i in user:\n",
        "        user_embedding.append(model.docvecs[i])        \n",
        "    user_embedding = np.array(user_embedding)\n",
        "    user = np.mean(user_embedding, axis = 0)\n",
        "    return user\n",
        "\n",
        "# 추천 시스템\n",
        "# user의 embedding 값을 보고 어떤 것을 추구하는지 예측 -> 유사한 값 cos 유사도를 이용하여 추천\n",
        "def get_recommened_contents(user, data_doc, model):\n",
        "    scores = []\n",
        "\n",
        "    for tags, text in data_doc:\n",
        "        trained_doc_vec = model.docvecs[tags[0]]\n",
        "        scores.append(cosine_similarity(user.reshape(-1, 128), trained_doc_vec.reshape(-1, 128)))\n",
        "\n",
        "    scores = np.array(scores).reshape(-1)\n",
        "    scores = np.argsort(-scores)[:5]\n",
        "    \n",
        "    return df.loc[scores, :]"
      ],
      "execution_count": null,
      "outputs": []
    },
    {
      "cell_type": "code",
      "metadata": {
        "id": "B9oFpH6MnTF0",
        "colab_type": "code",
        "colab": {
          "base_uri": "https://localhost:8080/",
          "height": 253
        },
        "outputId": "96b79492-74b3-4566-bc06-cba597980c1b"
      },
      "source": [
        "data_content_tag = make_doc2vec_data(df, 'content' , t_document = True)\n",
        "data_content = make_doc2vec_data(df, 'content')\n",
        "\n",
        "make_doc2vec_models(data_content_tag, name=\"content\")\n",
        "model_content = Doc2Vec.load('./content_news_model.doc2vec')\n",
        "\n",
        "user_category_1 = df.loc[random.sample(df.loc[df.category == 1, :].index.values.tolist(), 5), :]  #경제\n",
        "user_category_2 = df.loc[random.sample(df.loc[df.category == 2, :].index.values.tolist(), 5), :]  #사회\n",
        "user_category_3 = df.loc[random.sample(df.loc[df.category == 3, :].index.values.tolist(), 5), :]  #IT\n",
        "\n",
        "user_category_1"
      ],
      "execution_count": null,
      "outputs": [
        {
          "output_type": "stream",
          "text": [
            "/usr/local/lib/python3.6/dist-packages/smart_open/smart_open_lib.py:253: UserWarning: This function is deprecated, use smart_open.open instead. See the migration notes for details: https://github.com/RaRe-Technologies/smart_open/blob/master/README.rst#migrating-to-the-new-open-function\n",
            "  'See the migration notes for details: %s' % _MIGRATION_NOTES_URL\n"
          ],
          "name": "stderr"
        },
        {
          "output_type": "execute_result",
          "data": {
            "text/html": [
              "<div>\n",
              "<style scoped>\n",
              "    .dataframe tbody tr th:only-of-type {\n",
              "        vertical-align: middle;\n",
              "    }\n",
              "\n",
              "    .dataframe tbody tr th {\n",
              "        vertical-align: top;\n",
              "    }\n",
              "\n",
              "    .dataframe thead th {\n",
              "        text-align: right;\n",
              "    }\n",
              "</style>\n",
              "<table border=\"1\" class=\"dataframe\">\n",
              "  <thead>\n",
              "    <tr style=\"text-align: right;\">\n",
              "      <th></th>\n",
              "      <th>category</th>\n",
              "      <th>content</th>\n",
              "    </tr>\n",
              "  </thead>\n",
              "  <tbody>\n",
              "    <tr>\n",
              "      <th>11</th>\n",
              "      <td>1</td>\n",
              "      <td>현대엘리베이터 충주 신공장 착공2022년 준공 목표</td>\n",
              "    </tr>\n",
              "    <tr>\n",
              "      <th>5</th>\n",
              "      <td>1</td>\n",
              "      <td>카드사에 非우호적 현실업계 지속 혁신으로 역량 입증해야종합</td>\n",
              "    </tr>\n",
              "    <tr>\n",
              "      <th>3</th>\n",
              "      <td>1</td>\n",
              "      <td>6·17 대책에 꽉 막힌 대출전문가들 내 집 마련 최선책은 청약뿐</td>\n",
              "    </tr>\n",
              "    <tr>\n",
              "      <th>4</th>\n",
              "      <td>1</td>\n",
              "      <td>카드업계 스스로 신사업 역량 증명해야 할 때</td>\n",
              "    </tr>\n",
              "    <tr>\n",
              "      <th>14</th>\n",
              "      <td>1</td>\n",
              "      <td>올 분양시장 최대 둔촌주공 9일 총회 취소조합장도 사퇴의사</td>\n",
              "    </tr>\n",
              "  </tbody>\n",
              "</table>\n",
              "</div>"
            ],
            "text/plain": [
              "    category                               content\n",
              "11         1          현대엘리베이터 충주 신공장 착공2022년 준공 목표\n",
              "5          1      카드사에 非우호적 현실업계 지속 혁신으로 역량 입증해야종합\n",
              "3          1  6·17 대책에 꽉 막힌 대출전문가들 내 집 마련 최선책은 청약뿐\n",
              "4          1              카드업계 스스로 신사업 역량 증명해야 할 때\n",
              "14         1      올 분양시장 최대 둔촌주공 9일 총회 취소조합장도 사퇴의사"
            ]
          },
          "metadata": {
            "tags": []
          },
          "execution_count": 7
        }
      ]
    },
    {
      "cell_type": "code",
      "metadata": {
        "id": "74-BOxfhnyoj",
        "colab_type": "code",
        "colab": {
          "base_uri": "https://localhost:8080/",
          "height": 197
        },
        "outputId": "ee10a123-e5b0-45bf-de3b-ce5f337f6df4"
      },
      "source": [
        "user_1 = make_user_embedding(user_category_1.index.values.tolist(), data_content, model_content)\n",
        "user_2 = make_user_embedding(user_category_2.index.values.tolist(), data_content, model_content)\n",
        "user_3 = make_user_embedding(user_category_3.index.values.tolist(), data_content, model_content)\n",
        "user_1.shape\n",
        "\n",
        "result = get_recommened_contents(user_1, data_content, model_content)\n",
        "pd.DataFrame(result.loc[:, ['category', 'content']])"
      ],
      "execution_count": null,
      "outputs": [
        {
          "output_type": "execute_result",
          "data": {
            "text/html": [
              "<div>\n",
              "<style scoped>\n",
              "    .dataframe tbody tr th:only-of-type {\n",
              "        vertical-align: middle;\n",
              "    }\n",
              "\n",
              "    .dataframe tbody tr th {\n",
              "        vertical-align: top;\n",
              "    }\n",
              "\n",
              "    .dataframe thead th {\n",
              "        text-align: right;\n",
              "    }\n",
              "</style>\n",
              "<table border=\"1\" class=\"dataframe\">\n",
              "  <thead>\n",
              "    <tr style=\"text-align: right;\">\n",
              "      <th></th>\n",
              "      <th>category</th>\n",
              "      <th>content</th>\n",
              "    </tr>\n",
              "  </thead>\n",
              "  <tbody>\n",
              "    <tr>\n",
              "      <th>5</th>\n",
              "      <td>1</td>\n",
              "      <td>카드사에 非우호적 현실업계 지속 혁신으로 역량 입증해야종합</td>\n",
              "    </tr>\n",
              "    <tr>\n",
              "      <th>14</th>\n",
              "      <td>1</td>\n",
              "      <td>올 분양시장 최대 둔촌주공 9일 총회 취소조합장도 사퇴의사</td>\n",
              "    </tr>\n",
              "    <tr>\n",
              "      <th>4</th>\n",
              "      <td>1</td>\n",
              "      <td>카드업계 스스로 신사업 역량 증명해야 할 때</td>\n",
              "    </tr>\n",
              "    <tr>\n",
              "      <th>3</th>\n",
              "      <td>1</td>\n",
              "      <td>6·17 대책에 꽉 막힌 대출전문가들 내 집 마련 최선책은 청약뿐</td>\n",
              "    </tr>\n",
              "    <tr>\n",
              "      <th>50</th>\n",
              "      <td>3</td>\n",
              "      <td>“당신의 음란 사이트 접속 사실을 알고 있다”··· 섹스토션 보안위협 주의</td>\n",
              "    </tr>\n",
              "  </tbody>\n",
              "</table>\n",
              "</div>"
            ],
            "text/plain": [
              "    category                                    content\n",
              "5          1           카드사에 非우호적 현실업계 지속 혁신으로 역량 입증해야종합\n",
              "14         1           올 분양시장 최대 둔촌주공 9일 총회 취소조합장도 사퇴의사\n",
              "4          1                   카드업계 스스로 신사업 역량 증명해야 할 때\n",
              "3          1       6·17 대책에 꽉 막힌 대출전문가들 내 집 마련 최선책은 청약뿐\n",
              "50         3  “당신의 음란 사이트 접속 사실을 알고 있다”··· 섹스토션 보안위협 주의"
            ]
          },
          "metadata": {
            "tags": []
          },
          "execution_count": 8
        }
      ]
    }
  ]
}